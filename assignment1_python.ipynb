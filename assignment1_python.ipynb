{
 
"cells": [
  
{
   "cell_type": "code",
   "execution_count": 1,
   "metadata": 
{
    "collapsed": false
   },
   "outputs": 
[
    {
     "name": "stdout",
     "output_type": "stream",
     
"text": [
      "hello world\n"
     ]
    }
   ],
   
"source": [
    "print(\"hello world\")\n"
   ]
  },
  
{
   "cell_type": "code",
   "execution_count": 20,
   "metadata": {

    "collapsed": false
   },
   "outputs": [
    
{
     "name": "stdout",
     
"output_type": "stream",
     "text": 
[
      "hello world\n"
     ]
    }
   ],
   
"source": [
    "print(\"hello world\")\n",
    "        "
   ]
  },
 
 {
   "cell_type": "code",
   "execution_count": 21,
   "metadata": 
{
    "collapsed": false
   },
   "outputs": [
    
{
     "name": "stdout",
     "output_type": "stream",
     
"text": [
      "4\n"
     ]
    }
   ],
   "source": 
[
    "a = 3+1\n",
    "print(a)\n"
   ]
  },
  
{
   "cell_type": "code",
   "execution_count": 22,
   "metadata":
 {
    "collapsed": false
   },
   "outputs": [
    {
     "name": "stdout",
     "output_type": "stream",
     "text": 
[
      "three plus one is 4\n"
     ]
    }
   ],
   "source": 
[
    "print(\"three plus one is\", a)"
   ]
  },
  
{
   "cell_type": "code",
   "execution_count": 38,
   "metadata": 
{
    "collapsed": false
   },
   "outputs": [
    
{
     "name": "stdout",
     "output_type": "stream",
     "text": [
      "Paul Bujak\n"
     ]
    }
   ],
   
"source": [
    "first_name = \"Paul\"\n",
    "last_name = \"Bujak\"\n",
    
"print(first_name,last_name)\n"
   ]
  },
  {

   "cell_type": "code",
   "execution_count": 66,
   "metadata": 
{
    "collapsed": false
   },
   "outputs": [
    
{
     "name": "stdout",
     "output_type": "stream",
     "text": 
[
      "Given Name \t Surname \n",
      " Paul \t \b \b \b \b \b \b \b \b \b Bujak \n",
      "\n"
     ]
    }
   ],
   
"source": [

    "print(\"Given Name\",\"\\t\",\"Surname\",\"\\n\",first_name,\"\\t\",\"\\b\",\"\\b\",\"\\b\",\"\\b\",\"\\b\",\"\\b\",\"\\b\",\"\\b\",\"\\b\",last_name,\"\\n\")\n"
   ]
  },
  
{
   "cell_type": "code",
   "execution_count": 53,
   "metadata": 
{
    "collapsed": false
   },
   "outputs": [
   
 {
     "name": "stdout",
     "output_type": "stream",
     "text": [
      "PaulBujak\n",
      "Paul \bBujak\n"
     ]
    }
   ],
   
"source": [
    "print(first_name+last_name)\n",
    "print(first_name,\"\\b\" + last_name,)"
   ]
  },
  {
   "cell_type": "code",
   "execution_count": 89,
   "metadata": 
{
    "collapsed": false
   },
   "outputs": [
    {
     "ename": "SyntaxError",
     "evalue": "invalid syntax (<ipython-input-89-58171b034407>, line 1)",
     "output_type": "error",
     "traceback": 
[
      "\u001b[1;36m  
File \u001b[1;32m\"<ipython-input-89-58171b034407>\"\u001b[1;36m, line \u001b[1;32m1\u001b[0m\n\u001b[1;33m    
str.\u001b[0m\n\u001b[1;37m        ^\u001b[0m\n\u001b[1;31mSyntaxError\u001b[0m\u001b[1;31m:\u001b[0m invalid syntax\n"
     ]
    }
   ],
   
"source": [
    "str."
   ]
  },
  
{
   "cell_type": "code",
   "execution_count": 88,
   "metadata": {
    "collapsed": false
   },
   "outputs": [
   
 {
     "data": {
      "text/plain": [
       "'PAUL'"
      ]
     },
     "execution_count": 88,
     "metadata": {},
     "output_type": "execute_result"
    }
   ],
   "source": [
    "first_name.upper()"
   ]
  },
  
{
   "cell_type": "code",
   "execution_count": null,
   "metadata": {
    "collapsed": true
   },
   "outputs": [],
   "source": []
  },
  
{
   "cell_type": "code",
   "execution_count": null,
   "metadata": {
    "collapsed": true
   },
   "outputs": [],
   "source": []
  }
 ],
 "metadata": {
  "anaconda-cloud": {},
  "celltoolbar": "Edit Metadata",
  "kernelspec":
 {
   "display_name": "Python [Root]",
   "language": "python",
   "name": "Python [Root]"
  },
  "language_info": {
   "codemirror_mode": 
{
    "name": "ipython",
    "version": 3
   },
   "file_extension": ".py",
   "mimetype": "text/x-python",
   "name": "python",
   "nbconvert_exporter": "python",
   "pygments_lexer": "ipython3",
   "version": "3.5.2"
  }

 },
 "nbformat": 4,
 "nbformat_minor": 0
}
